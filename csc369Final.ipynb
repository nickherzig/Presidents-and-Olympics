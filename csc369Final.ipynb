{
  "cells": [
    {
      "cell_type": "markdown",
      "metadata": {
        "id": "x3zU-m-g2oPP"
      },
      "source": [
        "Study of if the US, UK, or Canadian leaders have any impact on the success of their country's Olympic teams."
      ]
    },
    {
      "cell_type": "code",
      "execution_count": null,
      "metadata": {
        "id": "NoolY63aauhH"
      },
      "outputs": [
        {
          "ename": "",
          "evalue": "",
          "output_type": "error",
          "traceback": [
            "\u001b[1;31mFailed to start the Kernel. \n",
            "\u001b[1;31mJupyter server crashed. Unable to connect. \n",
            "\u001b[1;31mError code from Jupyter: 1\n",
            "\u001b[1;31musage: jupyter.py [-h] [--version] [--config-dir] [--data-dir] [--runtime-dir]\n",
            "\u001b[1;31m                  [--paths] [--json] [--debug]\n",
            "\u001b[1;31m                  [subcommand]\n",
            "\u001b[1;31m\n",
            "\u001b[1;31mJupyter: Interactive Computing\n",
            "\u001b[1;31m\n",
            "\u001b[1;31mpositional arguments:\n",
            "\u001b[1;31m  subcommand     the subcommand to launch\n",
            "\u001b[1;31m\n",
            "\u001b[1;31moptions:\n",
            "\u001b[1;31m  -h, --help     show this help message and exit\n",
            "\u001b[1;31m  --version      show the versions of core jupyter packages and exit\n",
            "\u001b[1;31m  --config-dir   show Jupyter config dir\n",
            "\u001b[1;31m  --data-dir     show Jupyter data dir\n",
            "\u001b[1;31m  --runtime-dir  show Jupyter runtime dir\n",
            "\u001b[1;31m  --paths        show all Jupyter paths. Add --json for machine-readable\n",
            "\u001b[1;31m                 format.\n",
            "\u001b[1;31m  --json         output paths as machine-readable json\n",
            "\u001b[1;31m  --debug        output debug information about paths\n",
            "\u001b[1;31m\n",
            "\u001b[1;31mAvailable subcommands:\n",
            "\u001b[1;31m\n",
            "\u001b[1;31mJupyter command `jupyter-notebook` not found. \n",
            "\u001b[1;31mView Jupyter <a href='command:jupyter.viewOutput'>log</a> for further details."
          ]
        }
      ],
      "source": [
        "!pip install pyspark\n",
        "!pip install -U -q PyDrive\n",
        "!apt install openjdk-8-jdk-headless -qq\n",
        "import os\n",
        "os.environ[\"JAVA_HOME\"] = \"/usr/lib/jvm/java-8-openjdk-amd64\""
      ]
    },
    {
      "cell_type": "code",
      "execution_count": null,
      "metadata": {
        "id": "XKUgYFX9olK5"
      },
      "outputs": [],
      "source": [
        "from pyspark import SparkContext, SparkConf\n",
        "from pyspark.sql import SparkSession, SQLContext\n",
        "from pyspark.sql import types as sparktypes\n",
        "from pyspark.sql.functions import *\n",
        "\n",
        "sc = SparkContext() \n",
        "spark = SparkSession(sc)"
      ]
    }
  ],
  "metadata": {
    "colab": {
      "provenance": []
    },
    "kernelspec": {
      "display_name": "Python 3",
      "language": "python",
      "name": "python3"
    },
    "language_info": {
      "name": "python",
      "version": "3.10.8"
    },
    "vscode": {
      "interpreter": {
        "hash": "b0fa6594d8f4cbf19f97940f81e996739fb7646882a419484c72d19e05852a7e"
      }
    }
  },
  "nbformat": 4,
  "nbformat_minor": 0
}
